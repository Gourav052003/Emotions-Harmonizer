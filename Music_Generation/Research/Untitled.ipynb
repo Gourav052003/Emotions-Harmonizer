{
 "cells": [
  {
   "cell_type": "code",
   "execution_count": 1,
   "id": "129a3c3f",
   "metadata": {},
   "outputs": [],
   "source": [
    "import os\n",
    "import requests\n",
    "from pathlib import Path\n",
    "from github import Github,ContentFile,Repository"
   ]
  },
  {
   "cell_type": "code",
   "execution_count": 2,
   "id": "f4521b08",
   "metadata": {},
   "outputs": [
    {
     "name": "stdout",
     "output_type": "stream",
     "text": [
      "^C\n"
     ]
    }
   ],
   "source": [
    "!pip3 install PyGithub"
   ]
  },
  {
   "cell_type": "code",
   "execution_count": null,
   "id": "6dc85bc0",
   "metadata": {},
   "outputs": [],
   "source": [
    "REPOSITORY = Path('Gourav052003/Mix-Music-Splitter-Dataset')\n",
    "FOLDER = Path('Mix Music')\n",
    "SAVE_FOLDER = Path('Artifacts/Dataset')"
   ]
  }
 ],
 "metadata": {
  "interpreter": {
   "hash": "a12d694c3ccac42055183a0ad11e659c6a2db5c6555ad2c8919d5814fd4e404f"
  },
  "kernelspec": {
   "display_name": "Python (projectEnvironment)",
   "language": "python",
   "name": "projectenvironment"
  },
  "language_info": {
   "codemirror_mode": {
    "name": "ipython",
    "version": 3
   },
   "file_extension": ".py",
   "mimetype": "text/x-python",
   "name": "python",
   "nbconvert_exporter": "python",
   "pygments_lexer": "ipython3",
   "version": "3.9.7"
  }
 },
 "nbformat": 4,
 "nbformat_minor": 5
}
